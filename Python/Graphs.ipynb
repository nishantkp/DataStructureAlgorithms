{
 "cells": [
  {
   "cell_type": "code",
   "execution_count": 1,
   "metadata": {},
   "outputs": [],
   "source": [
    "g = {\n",
    "    'A' : [('B',10), ('C',10)],\n",
    "    'B' : [('D',1)],\n",
    "    'C' : [('F',5)],\n",
    "    'D' : [('E',5), ('F',3)],\n",
    "    'E' : [('G',5)],\n",
    "    'F' : [('G',5)],\n",
    "    'G' : []\n",
    "}"
   ]
  },
  {
   "cell_type": "code",
   "execution_count": 2,
   "metadata": {},
   "outputs": [],
   "source": [
    "import sys\n",
    "import pandas as pd\n",
    "\n",
    "def build_adj_matrix(g):\n",
    "    inf = sys.maxint\n",
    "    keys = g.keys()\n",
    "    df = pd.DataFrame(index=g.keys(), columns=g.keys())\n",
    "    df = df.fillna(float(\"inf\"))\n",
    "    \n",
    "    for k,vals in g.iteritems():\n",
    "        df[k][k] = 0\n",
    "        for v in vals:\n",
    "            df[k][v[0]] = v[1]\n",
    "    \n",
    "    return df"
   ]
  },
  {
   "cell_type": "code",
   "execution_count": 3,
   "metadata": {},
   "outputs": [
    {
     "data": {
      "text/html": [
       "<div>\n",
       "<style scoped>\n",
       "    .dataframe tbody tr th:only-of-type {\n",
       "        vertical-align: middle;\n",
       "    }\n",
       "\n",
       "    .dataframe tbody tr th {\n",
       "        vertical-align: top;\n",
       "    }\n",
       "\n",
       "    .dataframe thead th {\n",
       "        text-align: right;\n",
       "    }\n",
       "</style>\n",
       "<table border=\"1\" class=\"dataframe\">\n",
       "  <thead>\n",
       "    <tr style=\"text-align: right;\">\n",
       "      <th></th>\n",
       "      <th>A</th>\n",
       "      <th>C</th>\n",
       "      <th>B</th>\n",
       "      <th>E</th>\n",
       "      <th>D</th>\n",
       "      <th>G</th>\n",
       "      <th>F</th>\n",
       "    </tr>\n",
       "  </thead>\n",
       "  <tbody>\n",
       "    <tr>\n",
       "      <th>A</th>\n",
       "      <td>0.000000</td>\n",
       "      <td>inf</td>\n",
       "      <td>inf</td>\n",
       "      <td>inf</td>\n",
       "      <td>inf</td>\n",
       "      <td>inf</td>\n",
       "      <td>inf</td>\n",
       "    </tr>\n",
       "    <tr>\n",
       "      <th>C</th>\n",
       "      <td>10.000000</td>\n",
       "      <td>0.000000</td>\n",
       "      <td>inf</td>\n",
       "      <td>inf</td>\n",
       "      <td>inf</td>\n",
       "      <td>inf</td>\n",
       "      <td>inf</td>\n",
       "    </tr>\n",
       "    <tr>\n",
       "      <th>B</th>\n",
       "      <td>10.000000</td>\n",
       "      <td>inf</td>\n",
       "      <td>0.000000</td>\n",
       "      <td>inf</td>\n",
       "      <td>inf</td>\n",
       "      <td>inf</td>\n",
       "      <td>inf</td>\n",
       "    </tr>\n",
       "    <tr>\n",
       "      <th>E</th>\n",
       "      <td>inf</td>\n",
       "      <td>inf</td>\n",
       "      <td>inf</td>\n",
       "      <td>0.000000</td>\n",
       "      <td>5.000000</td>\n",
       "      <td>inf</td>\n",
       "      <td>inf</td>\n",
       "    </tr>\n",
       "    <tr>\n",
       "      <th>D</th>\n",
       "      <td>inf</td>\n",
       "      <td>inf</td>\n",
       "      <td>1.000000</td>\n",
       "      <td>inf</td>\n",
       "      <td>0.000000</td>\n",
       "      <td>inf</td>\n",
       "      <td>inf</td>\n",
       "    </tr>\n",
       "    <tr>\n",
       "      <th>G</th>\n",
       "      <td>inf</td>\n",
       "      <td>inf</td>\n",
       "      <td>inf</td>\n",
       "      <td>5.000000</td>\n",
       "      <td>inf</td>\n",
       "      <td>0.000000</td>\n",
       "      <td>5.000000</td>\n",
       "    </tr>\n",
       "    <tr>\n",
       "      <th>F</th>\n",
       "      <td>inf</td>\n",
       "      <td>5.000000</td>\n",
       "      <td>inf</td>\n",
       "      <td>inf</td>\n",
       "      <td>3.000000</td>\n",
       "      <td>inf</td>\n",
       "      <td>0.000000</td>\n",
       "    </tr>\n",
       "  </tbody>\n",
       "</table>\n",
       "</div>"
      ],
      "text/plain": [
       "           A         C         B         E         D         G         F\n",
       "A   0.000000       inf       inf       inf       inf       inf       inf\n",
       "C  10.000000  0.000000       inf       inf       inf       inf       inf\n",
       "B  10.000000       inf  0.000000       inf       inf       inf       inf\n",
       "E        inf       inf       inf  0.000000  5.000000       inf       inf\n",
       "D        inf       inf  1.000000       inf  0.000000       inf       inf\n",
       "G        inf       inf       inf  5.000000       inf  0.000000  5.000000\n",
       "F        inf  5.000000       inf       inf  3.000000       inf  0.000000"
      ]
     },
     "execution_count": 3,
     "metadata": {},
     "output_type": "execute_result"
    }
   ],
   "source": [
    "mat = build_adj_matrix(g)\n",
    "mat"
   ]
  },
  {
   "cell_type": "code",
   "execution_count": 4,
   "metadata": {},
   "outputs": [],
   "source": [
    "def find_min_node(d,visited):\n",
    "    min_node = None\n",
    "    min_value = float(\"inf\")\n",
    "    for k,v in d.iteritems():\n",
    "        \n",
    "        if min_value > v[0] and k not in visited:\n",
    "            min_value = v[0]\n",
    "            min_node = k\n",
    "    \n",
    "    return min_node"
   ]
  },
  {
   "cell_type": "code",
   "execution_count": 5,
   "metadata": {},
   "outputs": [
    {
     "data": {
      "text/plain": [
       "'B'"
      ]
     },
     "execution_count": 5,
     "metadata": {},
     "output_type": "execute_result"
    }
   ],
   "source": [
    "find_min_node({'A': (0, 'A'), 'C': (10, 'A'), 'B': (10, 'A'), 'F': (15, 'C')}, ['A', 'C'])"
   ]
  },
  {
   "cell_type": "code",
   "execution_count": 6,
   "metadata": {},
   "outputs": [],
   "source": [
    "def dijkstras(g, s, e):\n",
    "    mat = build_adj_matrix(g)\n",
    "    keys = g.keys()\n",
    "    visited = []\n",
    "    min_dist = {} # 'A' : (0,A), 'B' : (10,A)\n",
    "    min_dist[s] = (0,s)\n",
    "    \n",
    "    while len(keys) != len(visited):\n",
    "        min_node = find_min_node(min_dist, visited)\n",
    "        \n",
    "        if not min_node:\n",
    "            break\n",
    "        neighbors = g[min_node] \n",
    "        visited.append(min_node)\n",
    "     \n",
    "        for neigh in neighbors:\n",
    "            if neigh[0] in min_dist:\n",
    "                if min_dist[min_node][0] + neigh[1] < min_dist[neigh[0]][0]:\n",
    "                    min_dist[neigh[0]] = (min_dist[min_node][0] + neigh[1], min_node)\n",
    "            else:\n",
    "                min_dist[neigh[0]] = (min_dist[min_node][0]+neigh[1], min_node)\n",
    "    \n",
    "    path = []\n",
    "    current = e\n",
    "    path.append(current)\n",
    "    while current != s:\n",
    "        path.append(min_dist[current][1])\n",
    "        current = min_dist[current][1]\n",
    "    \n",
    "    return min_dist, path[::-1]\n",
    "    "
   ]
  },
  {
   "cell_type": "code",
   "execution_count": 7,
   "metadata": {},
   "outputs": [
    {
     "data": {
      "text/plain": [
       "({'A': (0, 'A'),\n",
       "  'B': (10, 'A'),\n",
       "  'C': (10, 'A'),\n",
       "  'D': (11, 'B'),\n",
       "  'E': (16, 'D'),\n",
       "  'F': (14, 'D'),\n",
       "  'G': (19, 'F')},\n",
       " ['A', 'B', 'D', 'F', 'G'])"
      ]
     },
     "execution_count": 7,
     "metadata": {},
     "output_type": "execute_result"
    }
   ],
   "source": [
    "dijkstras(g,'A','G') # returns min dist map and shortest path found between start and end"
   ]
  }
 ],
 "metadata": {
  "kernelspec": {
   "display_name": "Python 2",
   "language": "python",
   "name": "python2"
  },
  "language_info": {
   "codemirror_mode": {
    "name": "ipython",
    "version": 2
   },
   "file_extension": ".py",
   "mimetype": "text/x-python",
   "name": "python",
   "nbconvert_exporter": "python",
   "pygments_lexer": "ipython2",
   "version": "2.7.14"
  }
 },
 "nbformat": 4,
 "nbformat_minor": 2
}
