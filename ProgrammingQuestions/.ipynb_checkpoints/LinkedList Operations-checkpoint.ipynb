{
 "cells": [
  {
   "cell_type": "code",
   "execution_count": 1,
   "metadata": {},
   "outputs": [],
   "source": [
    "class ListNode():\n",
    "    \n",
    "    def __init__(self, value, prev=None, next=None):\n",
    "        self.prev = prev\n",
    "        self.next = next\n",
    "        self.value = value\n",
    "        \n",
    "    def add(self, next):\n",
    "        next.prev = self\n",
    "        next.next = self.next\n",
    "        \n",
    "        if self.next:\n",
    "            self.next.prev = next\n",
    "        \n",
    "        self.next = next\n",
    "        \n",
    "    def remove(self):\n",
    "        self.next.prev = self.prev\n",
    "        self.prev.next = self.next\n",
    "        \n",
    "    def addPrev(self, prev):\n",
    "        self.prev = prev\n",
    "    \n",
    "    def addNext(self, next):\n",
    "        self.next = next\n",
    "        "
   ]
  },
  {
   "cell_type": "code",
   "execution_count": 2,
   "metadata": {},
   "outputs": [],
   "source": [
    "def draw(node, i = 1):\n",
    "    \n",
    "    prev_value = \"##\"\n",
    "    if node.prev:\n",
    "        prev_value = str(node.prev.value)\n",
    "    \n",
    "    print prev_value + \" --> Node\" + str(i) + \" == \" + str(node.value)\n",
    "    if node.next:\n",
    "        draw(node.next, i+1)"
   ]
  },
  {
   "cell_type": "code",
   "execution_count": 3,
   "metadata": {},
   "outputs": [],
   "source": [
    "n1 = ListNode(5)\n",
    "n2 = ListNode(10)\n",
    "n3 = ListNode(15)\n",
    "n1.add(n2)\n",
    "n2.add(n3)\n",
    "n4 = ListNode(21)\n",
    "n1.add(n4)"
   ]
  },
  {
   "cell_type": "code",
   "execution_count": 4,
   "metadata": {},
   "outputs": [
    {
     "name": "stdout",
     "output_type": "stream",
     "text": [
      "## --> Node1 == 5\n",
      "5 --> Node2 == 21\n",
      "21 --> Node3 == 10\n",
      "10 --> Node4 == 15\n"
     ]
    }
   ],
   "source": [
    "draw(n1)"
   ]
  },
  {
   "cell_type": "code",
   "execution_count": 5,
   "metadata": {},
   "outputs": [],
   "source": [
    "m1 = ListNode(1)\n",
    "m2 = ListNode(11)\n",
    "m3 = ListNode(115)\n",
    "m1.add(m2)\n",
    "m2.add(m3)\n",
    "m4 = ListNode(-21)\n",
    "m1.add(m4)"
   ]
  },
  {
   "cell_type": "code",
   "execution_count": 6,
   "metadata": {},
   "outputs": [
    {
     "name": "stdout",
     "output_type": "stream",
     "text": [
      "## --> Node1 == 1\n",
      "1 --> Node2 == -21\n",
      "-21 --> Node3 == 11\n",
      "11 --> Node4 == 115\n"
     ]
    }
   ],
   "source": [
    "draw(m1)"
   ]
  },
  {
   "cell_type": "code",
   "execution_count": 7,
   "metadata": {},
   "outputs": [],
   "source": [
    "def joinList(list1, list2):\n",
    "    \n",
    "    node = list1\n",
    "    while node.next is not None:\n",
    "        node = node.next\n",
    "    \n",
    "    node.next = list2\n",
    "    list2.prev = node\n",
    "\n",
    "    return list1"
   ]
  },
  {
   "cell_type": "code",
   "execution_count": 8,
   "metadata": {},
   "outputs": [],
   "source": [
    "joined = joinList(n1,m1)"
   ]
  },
  {
   "cell_type": "code",
   "execution_count": 9,
   "metadata": {},
   "outputs": [
    {
     "name": "stdout",
     "output_type": "stream",
     "text": [
      "## --> Node1 == 5\n",
      "5 --> Node2 == 21\n",
      "21 --> Node3 == 10\n",
      "10 --> Node4 == 15\n",
      "15 --> Node5 == 1\n",
      "1 --> Node6 == -21\n",
      "-21 --> Node7 == 11\n",
      "11 --> Node8 == 115\n"
     ]
    }
   ],
   "source": [
    "draw(joined)"
   ]
  },
  {
   "cell_type": "code",
   "execution_count": 10,
   "metadata": {},
   "outputs": [],
   "source": [
    "def reverseList(node):\n",
    "\n",
    "    current = node\n",
    "    while current is not None:\n",
    "        prev = current.prev\n",
    "        nxt = current.next\n",
    "        current.next, current.prev = prev, nxt\n",
    "        node = current\n",
    "        current = current.prev\n",
    "    \n",
    "    return node"
   ]
  },
  {
   "cell_type": "code",
   "execution_count": 11,
   "metadata": {},
   "outputs": [
    {
     "name": "stdout",
     "output_type": "stream",
     "text": [
      "## --> Node1 == 5\n",
      "5 --> Node2 == 21\n",
      "21 --> Node3 == 10\n",
      "10 --> Node4 == 15\n",
      "================\n",
      "## --> Node1 == 15\n",
      "15 --> Node2 == 10\n",
      "10 --> Node3 == 21\n",
      "21 --> Node4 == 5\n"
     ]
    }
   ],
   "source": [
    "n1 = ListNode(5)\n",
    "n2 = ListNode(10)\n",
    "n3 = ListNode(15)\n",
    "n1.add(n2)\n",
    "n2.add(n3)\n",
    "n4 = ListNode(21)\n",
    "n1.add(n4)\n",
    "\n",
    "draw(n1)\n",
    "\n",
    "rev = reverseList(n1)\n",
    "print \"================\"\n",
    "draw(rev)"
   ]
  },
  {
   "cell_type": "code",
   "execution_count": 12,
   "metadata": {},
   "outputs": [],
   "source": [
    "def findLoop(node):\n",
    "    pass"
   ]
  },
  {
   "cell_type": "code",
   "execution_count": null,
   "metadata": {},
   "outputs": [],
   "source": [
    "def merge_ll(n, m):\n",
    "    ll = n\n",
    "    i = 0\n",
    "    while n.next is not None or m.next is not None:\n",
    "        if i%2 == 0:\n",
    "            ll.next = m\n",
    "            m = m.next\n",
    "        else:\n",
    "            ll.next = n\n",
    "            n = n.next\n",
    "            \n",
    "        i += 1\n",
    "        \n",
    "    if n.next is not None:\n",
    "        while n.next is not None:\n",
    "            ll.next = n\n",
    "            n = n.next\n",
    "            \n",
    "    elif m.next is not None:\n",
    "        while m.next is not None:\n",
    "            ll.next = m\n",
    "            m = m.next\n",
    "        "
   ]
  }
 ],
 "metadata": {
  "kernelspec": {
   "display_name": "Python 2",
   "language": "python",
   "name": "python2"
  },
  "language_info": {
   "codemirror_mode": {
    "name": "ipython",
    "version": 2
   },
   "file_extension": ".py",
   "mimetype": "text/x-python",
   "name": "python",
   "nbconvert_exporter": "python",
   "pygments_lexer": "ipython2",
   "version": "2.7.14"
  }
 },
 "nbformat": 4,
 "nbformat_minor": 2
}
