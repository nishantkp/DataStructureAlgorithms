{
 "cells": [
  {
   "cell_type": "code",
   "execution_count": 1,
   "metadata": {},
   "outputs": [],
   "source": [
    "class BSTNode():\n",
    "    def __init__(self, value=0, left=None, right=None):\n",
    "        self.value = value\n",
    "        self.left = left\n",
    "        self.right = right"
   ]
  },
  {
   "cell_type": "code",
   "execution_count": 6,
   "metadata": {},
   "outputs": [],
   "source": [
    "def check_balanced_tree(node):\n",
    "    if node is None:\n",
    "        return False\n",
    "    \n",
    "    heightDiff = get_height(node.left) - get_height(node.right)\n",
    "    \n",
    "    if heightDiff > 1:\n",
    "        return False\n",
    "    else:\n",
    "        return check_balanced_tree(node.left) and check_balanced_tree(node.right)\n",
    "    \n",
    "\n",
    "def get_height(node):\n",
    "    if node is None:\n",
    "        return 0\n",
    "    \n",
    "    return max(get_height(node.left), get_height(node.right)) + 1"
   ]
  },
  {
   "cell_type": "code",
   "execution_count": 5,
   "metadata": {},
   "outputs": [],
   "source": [
    "def is_balanced(node):\n",
    "    if check_height(node) == -1:\n",
    "        return False\n",
    "    return True\n",
    "\n",
    "def check_height(node):\n",
    "    if node is None:\n",
    "        return 0\n",
    "    \n",
    "    left_ht = check_height(node.left)\n",
    "    if left_ht == -1:\n",
    "        return -1\n",
    "    \n",
    "    right_ht = check_height(node.right)\n",
    "    if right_ht == -1:\n",
    "        return -1\n",
    "    \n",
    "    diff = left_ht - right_ht\n",
    "    if diff > 1:\n",
    "        return -1\n",
    "    else:\n",
    "        return max(left_ht, right_ht) + 1"
   ]
  },
  {
   "cell_type": "code",
   "execution_count": 22,
   "metadata": {},
   "outputs": [],
   "source": [
    "from multiprocessing import Queue\n",
    "def find_route(start_node, end_node):\n",
    "    q = Queue()\n",
    "    \n",
    "    q.put(start_node.left)\n",
    "    q.put(start_node.right)\n",
    "    \n",
    "    visited = []\n",
    "    \n",
    "    while(q.qsize != 0):\n",
    "        current = q.get()\n",
    "        if current not in visited:\n",
    "            visited.append(current)\n",
    "            if current == end_node:\n",
    "                return True\n",
    "            q.put(current.left)\n",
    "            q.put(current.right)\n",
    "    \n",
    "    return False\n",
    "    "
   ]
  },
  {
   "cell_type": "code",
   "execution_count": 23,
   "metadata": {},
   "outputs": [],
   "source": [
    "arr = [1,2,3,5,9,12,31,44,55,58,60,100]"
   ]
  },
  {
   "cell_type": "code",
   "execution_count": 148,
   "metadata": {},
   "outputs": [],
   "source": [
    "def gen_binary_tree(arr,side = None):\n",
    "       \n",
    "    if not arr:\n",
    "        return None\n",
    "        \n",
    "    mid = (len(arr))/2\n",
    "      \n",
    "    print mid, arr[mid]\n",
    "    print \"=========\"\n",
    "    \n",
    "    node = BSTNode(arr[mid])\n",
    "    node.left = gen_binary_tree(arr[:mid])\n",
    "    node.right = gen_binary_tree(arr[mid+1:])\n",
    "    return node\n",
    "    \n",
    "    "
   ]
  },
  {
   "cell_type": "code",
   "execution_count": 149,
   "metadata": {},
   "outputs": [
    {
     "name": "stdout",
     "output_type": "stream",
     "text": [
      "6 31\n",
      "=========\n",
      "3 5\n",
      "=========\n",
      "1 2\n",
      "=========\n",
      "0 1\n",
      "=========\n",
      "0 3\n",
      "=========\n",
      "1 12\n",
      "=========\n",
      "0 9\n",
      "=========\n",
      "2 58\n",
      "=========\n",
      "1 55\n",
      "=========\n",
      "0 44\n",
      "=========\n",
      "1 100\n",
      "=========\n",
      "0 60\n",
      "=========\n",
      "  ->  31\n",
      "   L-->  5\n",
      "    L--->  2\n",
      "     L---->  1\n",
      "     R---->  3\n",
      "    R--->  12\n",
      "     L---->  9\n",
      "   R-->  58\n",
      "    L--->  55\n",
      "     L---->  44\n",
      "    R--->  100\n",
      "     L---->  60\n"
     ]
    }
   ],
   "source": [
    "tr2 = gen_binary_tree(arr)\n",
    "printNodes(tr2)    "
   ]
  },
  {
   "cell_type": "code",
   "execution_count": 43,
   "metadata": {},
   "outputs": [],
   "source": [
    " def printNodes(node, i=None, side = \"\"): \n",
    "        if not i:\n",
    "            i = 1\n",
    "        \n",
    "        print \" \"*i + \" \" + side + \"-\"*i+\"> \", node.value\n",
    "        i += 1\n",
    "        if node.left:\n",
    "            printNodes(node.left, i,\"L\")\n",
    "        if node.right:\n",
    "            printNodes(node.right, i, \"R\")"
   ]
  },
  {
   "cell_type": "code",
   "execution_count": 138,
   "metadata": {},
   "outputs": [
    {
     "name": "stdout",
     "output_type": "stream",
     "text": [
      "  ->  31\n",
      "   L-->  5\n",
      "    L--->  2\n",
      "    R--->  12\n",
      "   R-->  58\n",
      "    L--->  55\n",
      "    R--->  100\n"
     ]
    }
   ],
   "source": [
    "printNodes(tr1)"
   ]
  },
  {
   "cell_type": "code",
   "execution_count": 129,
   "metadata": {},
   "outputs": [],
   "source": [
    "def sortedArrayToBST(arr): \n",
    "      \n",
    "    if not arr: \n",
    "        return None\n",
    "  \n",
    "    # find middle \n",
    "    mid = (len(arr)) / 2\n",
    "      \n",
    "    # make the middle element the root \n",
    "    root = BSTNode(arr[mid]) \n",
    "      \n",
    "    # left subtree of root has all \n",
    "    # values <arr[mid] \n",
    "    root.left = sortedArrayToBST(arr[:mid]) \n",
    "      \n",
    "    # right subtree of root has all  \n",
    "    # values >arr[mid] \n",
    "    root.right = sortedArrayToBST(arr[mid+1:]) \n",
    "    return root "
   ]
  },
  {
   "cell_type": "code",
   "execution_count": 140,
   "metadata": {},
   "outputs": [],
   "source": [
    "tr = sortedArrayToBST(arr)"
   ]
  },
  {
   "cell_type": "code",
   "execution_count": 141,
   "metadata": {},
   "outputs": [
    {
     "name": "stdout",
     "output_type": "stream",
     "text": [
      "  ->  31\n",
      "   L-->  5\n",
      "    L--->  2\n",
      "     L---->  1\n",
      "     R---->  3\n",
      "    R--->  12\n",
      "     L---->  9\n",
      "   R-->  58\n",
      "    L--->  55\n",
      "     L---->  44\n",
      "    R--->  100\n",
      "     L---->  60\n"
     ]
    }
   ],
   "source": [
    "printNodes(tr)"
   ]
  },
  {
   "cell_type": "code",
   "execution_count": null,
   "metadata": {},
   "outputs": [],
   "source": []
  }
 ],
 "metadata": {
  "kernelspec": {
   "display_name": "Python 2",
   "language": "python",
   "name": "python2"
  },
  "language_info": {
   "codemirror_mode": {
    "name": "ipython",
    "version": 2
   },
   "file_extension": ".py",
   "mimetype": "text/x-python",
   "name": "python",
   "nbconvert_exporter": "python",
   "pygments_lexer": "ipython2",
   "version": "2.7.14"
  }
 },
 "nbformat": 4,
 "nbformat_minor": 2
}
