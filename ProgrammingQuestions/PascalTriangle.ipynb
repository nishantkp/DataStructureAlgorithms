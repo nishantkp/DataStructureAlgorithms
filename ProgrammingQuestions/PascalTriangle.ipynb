{
 "cells": [
  {
   "cell_type": "code",
   "execution_count": 2,
   "metadata": {},
   "outputs": [],
   "source": [
    "def getRow(A):\n",
    "        row1 = [1]\n",
    "        row2 = [1,1]\n",
    "        \n",
    "        if A == 0:\n",
    "            return row1\n",
    "        \n",
    "        if A == 1:\n",
    "            return row2\n",
    "        \n",
    "        j = 2\n",
    "        row3 = [None]\n",
    "        \n",
    "        while j <= A:\n",
    "            \n",
    "            row3 = [None] * ( len(row2) + 1)\n",
    "            \n",
    "            for i in range(0, len(row3)):\n",
    "                try:\n",
    "                    a = row2[i]\n",
    "                except:\n",
    "                    a = 0\n",
    "                \n",
    "                try:\n",
    "                    b = 0 if i == 0 else row2[i-1]\n",
    "                except:\n",
    "                    b = 0\n",
    "                \n",
    "                row3[i] = a + b\n",
    "    \n",
    "            row2 = row3\n",
    "            j += 1\n",
    "            \n",
    "        return row3"
   ]
  },
  {
   "cell_type": "code",
   "execution_count": 3,
   "metadata": {},
   "outputs": [
    {
     "data": {
      "text/plain": [
       "[1, 2, 1]"
      ]
     },
     "execution_count": 3,
     "metadata": {},
     "output_type": "execute_result"
    }
   ],
   "source": [
    "getRow(2)"
   ]
  },
  {
   "cell_type": "code",
   "execution_count": 4,
   "metadata": {},
   "outputs": [
    {
     "data": {
      "text/plain": [
       "[1, 3, 3, 1]"
      ]
     },
     "execution_count": 4,
     "metadata": {},
     "output_type": "execute_result"
    }
   ],
   "source": [
    "getRow(3)"
   ]
  },
  {
   "cell_type": "code",
   "execution_count": 5,
   "metadata": {},
   "outputs": [
    {
     "data": {
      "text/plain": [
       "[1, 4, 6, 4, 1]"
      ]
     },
     "execution_count": 5,
     "metadata": {},
     "output_type": "execute_result"
    }
   ],
   "source": [
    "getRow(4)"
   ]
  },
  {
   "cell_type": "code",
   "execution_count": 6,
   "metadata": {},
   "outputs": [
    {
     "data": {
      "text/plain": [
       "[1, 5, 10, 10, 5, 1]"
      ]
     },
     "execution_count": 6,
     "metadata": {},
     "output_type": "execute_result"
    }
   ],
   "source": [
    "getRow(5)"
   ]
  },
  {
   "cell_type": "code",
   "execution_count": null,
   "metadata": {},
   "outputs": [],
   "source": []
  }
 ],
 "metadata": {
  "kernelspec": {
   "display_name": "Python 2",
   "language": "python",
   "name": "python2"
  },
  "language_info": {
   "codemirror_mode": {
    "name": "ipython",
    "version": 2
   },
   "file_extension": ".py",
   "mimetype": "text/x-python",
   "name": "python",
   "nbconvert_exporter": "python",
   "pygments_lexer": "ipython2",
   "version": "2.7.14"
  }
 },
 "nbformat": 4,
 "nbformat_minor": 2
}
