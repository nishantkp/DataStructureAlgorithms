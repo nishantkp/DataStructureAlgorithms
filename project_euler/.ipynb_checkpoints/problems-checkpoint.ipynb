{
 "cells": [
  {
   "cell_type": "markdown",
   "metadata": {},
   "source": [
    "## Q1"
   ]
  },
  {
   "cell_type": "code",
   "execution_count": 2,
   "metadata": {},
   "outputs": [
    {
     "data": {
      "text/plain": [
       "233168"
      ]
     },
     "execution_count": 2,
     "metadata": {},
     "output_type": "execute_result"
    }
   ],
   "source": [
    "lst_3_5 = [i for i in range(1,1000) if i%3 == 0 or i%5 == 0]\n",
    "\n",
    "import functools\n",
    "\n",
    "functools.reduce(lambda x,y: x+y, lst_3_5)"
   ]
  },
  {
   "cell_type": "markdown",
   "metadata": {},
   "source": [
    "## Q2"
   ]
  },
  {
   "cell_type": "code",
   "execution_count": 10,
   "metadata": {},
   "outputs": [
    {
     "data": {
      "text/plain": [
       "4613732"
      ]
     },
     "execution_count": 10,
     "metadata": {},
     "output_type": "execute_result"
    }
   ],
   "source": [
    "def fib():\n",
    "    op_arr = [1,2]\n",
    "    last_0 = 1\n",
    "    last_1 = 2\n",
    "    \n",
    "    while last_0 < 4000000:\n",
    "        n = last_0 + last_1\n",
    "        op_arr.append(n)\n",
    "        last_0,last_1 = last_1,n\n",
    "        \n",
    "    \n",
    "    return op_arr\n",
    "\n",
    "op_arr = fib()\n",
    "import functools\n",
    "result = filter(lambda x: x % 2 == 0, op_arr)\n",
    "functools.reduce(lambda x,y: x+y, result)\n",
    "        "
   ]
  },
  {
   "cell_type": "markdown",
   "metadata": {},
   "source": [
    "## Q3"
   ]
  },
  {
   "cell_type": "code",
   "execution_count": 19,
   "metadata": {},
   "outputs": [
    {
     "data": {
      "text/plain": [
       "6857"
      ]
     },
     "execution_count": 19,
     "metadata": {},
     "output_type": "execute_result"
    }
   ],
   "source": [
    "import math\n",
    "\n",
    "def get_primes(n):\n",
    "    op_arr = []\n",
    "    if n % 2 == 0:\n",
    "        op_arr.append(2)\n",
    "    \n",
    "    for i in range(3, int(math.sqrt(n))+1, 2):\n",
    "        while n%i == 0:\n",
    "            op_arr.append(i)\n",
    "            n = n / i\n",
    "    \n",
    "    return op_arr\n",
    "\n",
    "get_primes(600851475143)[-1]"
   ]
  },
  {
   "cell_type": "markdown",
   "metadata": {},
   "source": [
    "## Q4"
   ]
  },
  {
   "cell_type": "code",
   "execution_count": 20,
   "metadata": {},
   "outputs": [
    {
     "name": "stdout",
     "output_type": "stream",
     "text": [
      "906609\n"
     ]
    }
   ],
   "source": [
    "def is_palindrom(n):\n",
    "    return str(n) == str(n)[::-1]\n",
    "\n",
    "largest = 0\n",
    "\n",
    "for i in range(100,999):\n",
    "    for j in range(100,999):\n",
    "        n = i * j\n",
    "        if n > largest and is_palindrom(n):\n",
    "            largest = n\n",
    "\n",
    "print largest"
   ]
  },
  {
   "cell_type": "markdown",
   "metadata": {},
   "source": [
    "## Q5"
   ]
  },
  {
   "cell_type": "code",
   "execution_count": 7,
   "metadata": {},
   "outputs": [
    {
     "name": "stdout",
     "output_type": "stream",
     "text": [
      "[1]\n"
     ]
    },
    {
     "data": {
      "text/plain": [
       "1"
      ]
     },
     "execution_count": 7,
     "metadata": {},
     "output_type": "execute_result"
    }
   ],
   "source": [
    "import functools\n",
    "\n",
    "def find_min_num(n):\n",
    "    \n",
    "    nums = [1]\n",
    "    \n",
    "    for i in range(1,n):\n",
    "       \n",
    "        if i not in nums:\n",
    "            for j in nums:\n",
    "                if i % j != 0:\n",
    "                    print i, j\n",
    "                    nums.append(j)\n",
    "                    ##nums.remove(i)\n",
    "        \n",
    "    \n",
    "    print nums\n",
    "    \n",
    "    return functools.reduce(lambda x,y : x*y, nums)\n",
    "\n",
    "find_min_num(10)"
   ]
  },
  {
   "cell_type": "code",
   "execution_count": null,
   "metadata": {},
   "outputs": [],
   "source": []
  }
 ],
 "metadata": {
  "kernelspec": {
   "display_name": "Python 2",
   "language": "python",
   "name": "python2"
  },
  "language_info": {
   "codemirror_mode": {
    "name": "ipython",
    "version": 2
   },
   "file_extension": ".py",
   "mimetype": "text/x-python",
   "name": "python",
   "nbconvert_exporter": "python",
   "pygments_lexer": "ipython2",
   "version": "2.7.14"
  }
 },
 "nbformat": 4,
 "nbformat_minor": 2
}
