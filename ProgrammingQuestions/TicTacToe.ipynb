{
 "cells": [
  {
   "cell_type": "code",
   "execution_count": 25,
   "metadata": {},
   "outputs": [],
   "source": [
    "class TicTac:\n",
    "    \n",
    "    def __init__(self):\n",
    "        self.board = [None]*9\n",
    "        self.players = ['x', 'o']\n",
    "        \n",
    "    def check_winner(self):\n",
    "        if self.board[0] == self.board[1] == self.board[2]:\n",
    "            return self.board[0]\n",
    "        if self.board[3] == self.board[4] == self.board[5]:\n",
    "            return self.board[3]\n",
    "        if self.board[6] == self.board[7] == self.board[8]:\n",
    "            return self.board[6]\n",
    "        \n",
    "        if self.board[0] == self.board[3] == self.board[6]:\n",
    "            return self.board[0]\n",
    "        if self.board[1] == self.board[4] == self.board[7]:\n",
    "            return self.board[1]\n",
    "        if self.board[2] == self.board[5] == self.board[8]:\n",
    "            return self.board[2]\n",
    "        \n",
    "        if self.board[0] == self.board[4] == self.board[8]:\n",
    "            return self.board[0]\n",
    "        if self.board[2] == self.board[4] == self.board[6]:\n",
    "            return self.board[1]\n",
    "        \n",
    "    \n",
    "    def move(self, square, player):\n",
    "        if 0 <= square <= 8:\n",
    "            if self.board[square] is None:\n",
    "                if player in self.players:\n",
    "                    self.board[square] = player\n",
    "                else\n",
    "            else:\n",
    "                print 'invalid square or player'\n",
    "                return None\n",
    "            \n",
    "        print \"winner is : \", self.check_winner()\n",
    "        \n",
    "    def printBoard(self):\n",
    "        print self.board"
   ]
  },
  {
   "cell_type": "code",
   "execution_count": 26,
   "metadata": {},
   "outputs": [],
   "source": [
    "toe = TicTac()"
   ]
  },
  {
   "cell_type": "code",
   "execution_count": 27,
   "metadata": {},
   "outputs": [
    {
     "name": "stdout",
     "output_type": "stream",
     "text": [
      "winner is :  None\n",
      "winner is :  None\n",
      "winner is :  None\n",
      "winner is :  None\n",
      "winner is :  None\n"
     ]
    }
   ],
   "source": [
    "toe.move(0,'x')\n",
    "toe.move(1,'o')\n",
    "toe.move(3,'x')\n",
    "toe.move(2,'o')\n",
    "toe.move(6,'p')"
   ]
  },
  {
   "cell_type": "code",
   "execution_count": 28,
   "metadata": {},
   "outputs": [
    {
     "name": "stdout",
     "output_type": "stream",
     "text": [
      "['x', 'o', 'o', 'x', None, None, None, None, None]\n"
     ]
    }
   ],
   "source": [
    "toe.printBoard()"
   ]
  },
  {
   "cell_type": "code",
   "execution_count": null,
   "metadata": {},
   "outputs": [],
   "source": []
  }
 ],
 "metadata": {
  "kernelspec": {
   "display_name": "Python 2",
   "language": "python",
   "name": "python2"
  },
  "language_info": {
   "codemirror_mode": {
    "name": "ipython",
    "version": 2
   },
   "file_extension": ".py",
   "mimetype": "text/x-python",
   "name": "python",
   "nbconvert_exporter": "python",
   "pygments_lexer": "ipython2",
   "version": "2.7.14"
  }
 },
 "nbformat": 4,
 "nbformat_minor": 2
}
