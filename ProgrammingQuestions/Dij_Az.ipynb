{
 "cells": [
  {
   "cell_type": "code",
   "execution_count": null,
   "metadata": {},
   "outputs": [],
   "source": [
    "def removeObstacle(numRows, numColumns, lot):\n",
    "  \n",
    "    k=0;\n",
    "    cost=[[0 for x in range(numColumns)] for x in range(numRows)]\n",
    "    visited = []\n",
    "    visited.append(k)\n",
    "    position=0\n",
    "    for j in range(numColumns):\n",
    "        cost[0][j]=lot[k][j]\n",
    "        \n",
    "    mini=9999\n",
    "    for x in range (numColumns-1):\n",
    "        mini=9999\n",
    "        for j in range (numColumns):\n",
    "                if cost[0][j]<=mini and j not in visited:\n",
    "                        mini=cost[0][j]\n",
    "                        position=j\n",
    "                        \n",
    "        visited.append(position)\n",
    "        for j in range (numColumns):\n",
    "            if cost[0][j] >cost[0][position]+lot[position][j]:\n",
    "                cost[0][j]=cost[0][position]+lot[position][j]\n",
    "                \n",
    "\n",
    "    return len(visited)"
   ]
  }
 ],
 "metadata": {
  "kernelspec": {
   "display_name": "Python 2",
   "language": "python",
   "name": "python2"
  },
  "language_info": {
   "codemirror_mode": {
    "name": "ipython",
    "version": 2
   },
   "file_extension": ".py",
   "mimetype": "text/x-python",
   "name": "python",
   "nbconvert_exporter": "python",
   "pygments_lexer": "ipython2",
   "version": "2.7.14"
  }
 },
 "nbformat": 4,
 "nbformat_minor": 2
}
