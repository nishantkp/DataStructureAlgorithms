{
 "cells": [
  {
   "cell_type": "code",
   "execution_count": 1,
   "metadata": {},
   "outputs": [],
   "source": [
    "import Queue\n",
    "import pandas as pd"
   ]
  },
  {
   "cell_type": "code",
   "execution_count": 3,
   "metadata": {},
   "outputs": [
    {
     "data": {
      "text/plain": [
       "('a', 'b')"
      ]
     },
     "execution_count": 3,
     "metadata": {},
     "output_type": "execute_result"
    }
   ],
   "source": [
    "q = Queue.PriorityQueue()\n",
    "q.put(\"a\",0)\n",
    "q.put(\"b\",1)\n",
    "q.get(), q.get()"
   ]
  },
  {
   "cell_type": "code",
   "execution_count": null,
   "metadata": {},
   "outputs": [],
   "source": [
    "q.get()"
   ]
  },
  {
   "cell_type": "code",
   "execution_count": 2,
   "metadata": {},
   "outputs": [],
   "source": [
    " def find_dist(x, y):\n",
    "        return len([i for i in x if i not in y])"
   ]
  },
  {
   "cell_type": "code",
   "execution_count": 87,
   "metadata": {},
   "outputs": [
    {
     "data": {
      "text/plain": [
       "2"
      ]
     },
     "execution_count": 87,
     "metadata": {},
     "output_type": "execute_result"
    }
   ],
   "source": [
    "find_dist(\"cog\",\"lot\")"
   ]
  },
  {
   "cell_type": "code",
   "execution_count": 50,
   "metadata": {},
   "outputs": [],
   "source": [
    "class Node:\n",
    "    def __init__(self, val, prev):\n",
    "        self.val = val\n",
    "        self.prev = prev\n",
    "        \n",
    "    def __repr__(self):\n",
    "        return self.val"
   ]
  },
  {
   "cell_type": "code",
   "execution_count": 88,
   "metadata": {},
   "outputs": [],
   "source": [
    "def ladder(start, end, dictV):\n",
    "    vocab = [start] + dictV + [end]\n",
    "    op_arr = []\n",
    "    last = None\n",
    "\n",
    "    current = Node(vocab[0], last)\n",
    "    temp_op = []\n",
    "    q = [current]\n",
    "    print current\n",
    "    q2 = []\n",
    "    \n",
    "    for word in vocab:\n",
    "        print temp_op\n",
    "        print \"==============\"\n",
    "        print q\n",
    "\n",
    "        \n",
    "        \n",
    "        if q[0]:\n",
    "            current = q[0]\n",
    "        else:\n",
    "            current = None\n",
    "\n",
    "        q.remove(q[0])\n",
    "        \n",
    "        if current not in temp_op:\n",
    "            temp_op.append(current)\n",
    "            q2.append(current.val)\n",
    "        \n",
    "        index = vocab.index(word)\n",
    "        \n",
    "        for w in vocab[index:]:\n",
    "            d = find_dist(current.val, w)\n",
    "            if d == 1:\n",
    "                o = Node(w, current)\n",
    "                \n",
    "                if o not in temp_op and ( o.val not in q2 or o.val == end):\n",
    "                    print \"--\" + str(d) + \"--\" + w + \"--\" + current.val\n",
    "                    print\n",
    "                    print\n",
    "                    temp_op.append(o)\n",
    "                    q.append(o)\n",
    "                    q2.append(o.val)\n",
    "\n",
    "        last = current\n",
    "    \n",
    "    return temp_op"
   ]
  },
  {
   "cell_type": "code",
   "execution_count": 89,
   "metadata": {},
   "outputs": [],
   "source": [
    "start = \"hit\"\n",
    "end = \"cog\"\n",
    "dictV = [\"hot\", \"dot\", \"dog\", \"lot\", \"log\"]"
   ]
  },
  {
   "cell_type": "code",
   "execution_count": 98,
   "metadata": {},
   "outputs": [
    {
     "name": "stdout",
     "output_type": "stream",
     "text": [
      "hit\n",
      "[]\n",
      "==============\n",
      "[hit]\n",
      "--1--hot--hit\n",
      "\n",
      "\n",
      "[hit, hot]\n",
      "==============\n",
      "[hot]\n",
      "--1--dot--hot\n",
      "\n",
      "\n",
      "--1--lot--hot\n",
      "\n",
      "\n",
      "[hit, hot, dot, lot]\n",
      "==============\n",
      "[dot, lot]\n",
      "--1--dog--dot\n",
      "\n",
      "\n",
      "[hit, hot, dot, lot, dog]\n",
      "==============\n",
      "[lot, dog]\n",
      "--1--log--lot\n",
      "\n",
      "\n",
      "[hit, hot, dot, lot, dog, log]\n",
      "==============\n",
      "[dog, log]\n",
      "--1--cog--dog\n",
      "\n",
      "\n",
      "[hit, hot, dot, lot, dog, log, cog]\n",
      "==============\n",
      "[log, cog]\n",
      "--1--cog--log\n",
      "\n",
      "\n",
      "[hit, hot, dot, lot, dog, log, cog, cog]\n",
      "==============\n",
      "[cog, cog]\n"
     ]
    }
   ],
   "source": [
    "t = ladder(start, end, dictV)"
   ]
  },
  {
   "cell_type": "code",
   "execution_count": 99,
   "metadata": {},
   "outputs": [
    {
     "name": "stdout",
     "output_type": "stream",
     "text": [
      "[hit, hot, dot, lot, dog, log, cog, cog]\n"
     ]
    }
   ],
   "source": [
    "print t"
   ]
  },
  {
   "cell_type": "code",
   "execution_count": 96,
   "metadata": {},
   "outputs": [
    {
     "data": {
      "text/plain": [
       "0"
      ]
     },
     "execution_count": 96,
     "metadata": {},
     "output_type": "execute_result"
    }
   ],
   "source": [
    "dictV.index(\"hot\")"
   ]
  },
  {
   "cell_type": "code",
   "execution_count": 100,
   "metadata": {},
   "outputs": [],
   "source": [
    "inv = t[::-1]"
   ]
  },
  {
   "cell_type": "code",
   "execution_count": 101,
   "metadata": {},
   "outputs": [
    {
     "name": "stdout",
     "output_type": "stream",
     "text": [
      "[cog, cog, log, dog, lot, dot, hot, hit]\n",
      "cog -- log\n",
      "cog -- dog\n",
      "log -- lot\n",
      "dog -- dot\n",
      "lot -- hot\n",
      "dot -- hot\n",
      "hot -- hit\n"
     ]
    },
    {
     "ename": "AttributeError",
     "evalue": "'NoneType' object has no attribute 'val'",
     "output_type": "error",
     "traceback": [
      "\u001b[1;31m---------------------------------------------------------------------------\u001b[0m",
      "\u001b[1;31mAttributeError\u001b[0m                            Traceback (most recent call last)",
      "\u001b[1;32m<ipython-input-101-a855c0cde2df>\u001b[0m in \u001b[0;36m<module>\u001b[1;34m()\u001b[0m\n\u001b[0;32m      2\u001b[0m \u001b[1;33m\u001b[0m\u001b[0m\n\u001b[0;32m      3\u001b[0m \u001b[1;32mfor\u001b[0m \u001b[0mi\u001b[0m \u001b[1;32min\u001b[0m \u001b[0minv\u001b[0m\u001b[1;33m:\u001b[0m\u001b[1;33m\u001b[0m\u001b[0m\n\u001b[1;32m----> 4\u001b[1;33m     \u001b[1;32mprint\u001b[0m \u001b[0mi\u001b[0m\u001b[1;33m.\u001b[0m\u001b[0mval\u001b[0m \u001b[1;33m+\u001b[0m \u001b[1;34m\" -- \"\u001b[0m \u001b[1;33m+\u001b[0m \u001b[0mi\u001b[0m\u001b[1;33m.\u001b[0m\u001b[0mprev\u001b[0m\u001b[1;33m.\u001b[0m\u001b[0mval\u001b[0m\u001b[1;33m\u001b[0m\u001b[0m\n\u001b[0m",
      "\u001b[1;31mAttributeError\u001b[0m: 'NoneType' object has no attribute 'val'"
     ]
    }
   ],
   "source": [
    "print inv\n",
    "\n",
    "for i in inv:\n",
    "    print i.val + \" -- \" + i.prev.val"
   ]
  },
  {
   "cell_type": "code",
   "execution_count": 94,
   "metadata": {},
   "outputs": [
    {
     "name": "stdout",
     "output_type": "stream",
     "text": [
      "cog\n",
      "log\n",
      "lot\n",
      "hot\n",
      "hit\n",
      "None\n",
      "cog\n",
      "lot\n",
      "hot\n",
      "hit\n",
      "None\n"
     ]
    }
   ],
   "source": []
  },
  {
   "cell_type": "code",
   "execution_count": 104,
   "metadata": {},
   "outputs": [
    {
     "name": "stdout",
     "output_type": "stream",
     "text": [
      "cog\n",
      "log\n",
      "lot\n",
      "hot\n",
      "hit\n",
      "None\n",
      "cog\n",
      "dog\n",
      "dot\n",
      "hot\n",
      "hit\n",
      "None\n",
      "[['cog', 'log', 'lot', 'hot', 'hit'], ['cog', 'dog', 'dot', 'hot', 'hit']]\n"
     ]
    }
   ],
   "source": [
    "op = []\n",
    "\n",
    "def recur(node):\n",
    "    print node.val\n",
    "    if node.val:\n",
    "        temp.append(node.val)\n",
    "    if node.prev:\n",
    "        return recur(node.prev)\n",
    "    \n",
    "    return\n",
    "\n",
    "op = []\n",
    "for i in inv:\n",
    "    temp = []\n",
    "    c = \"-1\"\n",
    "    if i.val == end:\n",
    "        print recur(i)\n",
    "    \n",
    "    if len(temp) > 1: \n",
    "        op.append(temp)\n",
    "\n",
    "print op"
   ]
  },
  {
   "cell_type": "code",
   "execution_count": null,
   "metadata": {},
   "outputs": [],
   "source": []
  }
 ],
 "metadata": {
  "kernelspec": {
   "display_name": "Python 2",
   "language": "python",
   "name": "python2"
  },
  "language_info": {
   "codemirror_mode": {
    "name": "ipython",
    "version": 2
   },
   "file_extension": ".py",
   "mimetype": "text/x-python",
   "name": "python",
   "nbconvert_exporter": "python",
   "pygments_lexer": "ipython2",
   "version": "2.7.14"
  }
 },
 "nbformat": 4,
 "nbformat_minor": 2
}
