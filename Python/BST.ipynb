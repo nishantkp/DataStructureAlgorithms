{
 "cells": [
  {
   "cell_type": "code",
   "execution_count": null,
   "metadata": {},
   "outputs": [],
   "source": [
    "class BSTNode():\n",
    "    def __init__(self, value=0, left=None, right=None):\n",
    "        self.value = value\n",
    "        self.left = left\n",
    "        self.right = right\n",
    "             "
   ]
  },
  {
   "cell_type": "code",
   "execution_count": null,
   "metadata": {},
   "outputs": [],
   "source": [
    "def addNode(cNode, pNode):\n",
    "        \n",
    "    if cNode.value > pNode.value:\n",
    "        if pNode.right:\n",
    "            addNode(cNode, pNode.right)\n",
    "        else:\n",
    "            pNode.right = cNode\n",
    "    \n",
    "    else:\n",
    "        if pNode.left:\n",
    "            addNode(cNode, pNode.left)\n",
    "        else:\n",
    "            pNode.left = cNode"
   ]
  },
  {
   "cell_type": "code",
   "execution_count": null,
   "metadata": {},
   "outputs": [],
   "source": [
    " def printNodes(node, i=None, side = \"\"):\n",
    "        \n",
    "        if not i:\n",
    "            i = 1\n",
    "        \n",
    "        print \" \"*i + \" \" + side + \"-\"*i+\"> \", node.value\n",
    "        i += 1\n",
    "        if node.left:\n",
    "            printNodes(node.left, i,\"L\")\n",
    "        if node.right:\n",
    "            printNodes(node.right, i, \"R\")\n",
    "        "
   ]
  },
  {
   "cell_type": "code",
   "execution_count": null,
   "metadata": {},
   "outputs": [],
   "source": [
    "arr = [40,20,60,35,10,5]"
   ]
  },
  {
   "cell_type": "code",
   "execution_count": null,
   "metadata": {},
   "outputs": [],
   "source": [
    "n = BSTNode(6)"
   ]
  },
  {
   "cell_type": "code",
   "execution_count": null,
   "metadata": {},
   "outputs": [],
   "source": [
    "for i in arr:\n",
    "    n1 = BSTNode(i)\n",
    "    addNode(n1, n)"
   ]
  },
  {
   "cell_type": "code",
   "execution_count": null,
   "metadata": {},
   "outputs": [],
   "source": [
    "printNodes(n)"
   ]
  },
  {
   "cell_type": "code",
   "execution_count": null,
   "metadata": {},
   "outputs": [],
   "source": []
  }
 ],
 "metadata": {
  "kernelspec": {
   "display_name": "Python 2",
   "language": "python",
   "name": "python2"
  },
  "language_info": {
   "codemirror_mode": {
    "name": "ipython",
    "version": 2
   },
   "file_extension": ".py",
   "mimetype": "text/x-python",
   "name": "python",
   "nbconvert_exporter": "python",
   "pygments_lexer": "ipython2",
   "version": "2.7.14"
  }
 },
 "nbformat": 4,
 "nbformat_minor": 2
}
