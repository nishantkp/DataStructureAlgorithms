{
 "cells": [
  {
   "cell_type": "code",
   "execution_count": 119,
   "metadata": {},
   "outputs": [],
   "source": [
    "def insert(intervals, new_interval):\n",
    "        \n",
    "        ix1 = None\n",
    "        ix2 = None\n",
    "        ix3 = []\n",
    "        \n",
    "        if len(intervals) == 0:\n",
    "            return [new_interval]\n",
    "        \n",
    "        if not new_interval:\n",
    "            return intervals\n",
    "        \n",
    "        new_interval = list(new_interval)\n",
    "        if new_interval[0] > new_interval[1]:\n",
    "            new_interval[0], new_interval[1] = new_interval[1], new_interval[0]\n",
    "        \n",
    "        for it in intervals:\n",
    "            if it[0] <= new_interval[0] < it[1]:\n",
    "                ix1 = intervals.index(it)\n",
    "                \n",
    "            if it[0] <= new_interval[1] < it[1]:\n",
    "                ix2 = intervals.index(it)\n",
    "                \n",
    "            if it[0] > new_interval[0]:\n",
    "                ix3.append(intervals.index(it))\n",
    "        \n",
    "        print ix1, ix2, ix3\n",
    "        \n",
    "        if intervals[0][0] >= new_interval[0] and intervals[len(intervals)-1][1] <= new_interval[1]:\n",
    "            return new_interval\n",
    "        \n",
    "        if ix1 and not ix2:\n",
    "            print \"in 1\"\n",
    "            intervals[ix1][1] = new_interval[1]\n",
    "            return intervals\n",
    "        \n",
    "        if ix1 and ix2:\n",
    "            print \"in 2\"\n",
    "            intervals[ix1][1] = intervals[ix2][1]\n",
    "            ni = [] + intervals[:ix1+1] + intervals[ix2+1:]\n",
    "            return ni\n",
    "        \n",
    "        if ix2 and not ix1:\n",
    "            print \"in 3\"\n",
    "            intervals[ix2][0] = new_interval[0]\n",
    "            return intervals\n",
    "            \n",
    "        if len(ix3)>0:\n",
    "            print \"in 4\"\n",
    "            ix3 = ix3[0]\n",
    "            if ix3 == 0:\n",
    "                if new_interval[1] < intervals[0][0]:\n",
    "                    ni = [] + [new_interval] + intervals\n",
    "                else:\n",
    "                    return new_interval\n",
    "            else:\n",
    "                ni = [] + intervals[:ix3] + [new_interval] + intervals[ix3:]\n",
    "            return ni\n",
    "        \n",
    "        intervals.append(new_interval)\n",
    "        \n",
    "        return intervals"
   ]
  },
  {
   "cell_type": "code",
   "execution_count": 109,
   "metadata": {},
   "outputs": [],
   "source": [
    "A = [ [6037774, 6198243], [6726550, 7004541], [8842554, 10866536], [11027721, 11341296], [11972532, 14746848], [16374805, 16706396], [17557262, 20518214], [22139780, 22379559], [27212352, 28404611], [28921768, 29621583], [29823256, 32060921], [33950165, 36418956], [37225039, 37785557], [40087908, 41184444], [41922814, 45297414], [48142402, 48244133], [48622983, 50443163], [50898369, 55612831], [57030757, 58120901], [59772759, 59943999], [61141939, 64859907], [65277782, 65296274], [67497842, 68386607], [70414085, 73339545], [73896106, 75605861], [79672668, 84539434], [84821550, 86558001], [91116470, 92198054], [96147808, 98979097] ]\n",
    "B = [36210193, 61984219]"
   ]
  },
  {
   "cell_type": "code",
   "execution_count": 120,
   "metadata": {},
   "outputs": [],
   "source": [
    "A = [ [1,2], [8,10] ]\n",
    "B = [3,6]"
   ]
  },
  {
   "cell_type": "code",
   "execution_count": 115,
   "metadata": {},
   "outputs": [],
   "source": [
    "A = [ [31935139, 38366404], [54099301, 76986474], [87248431, 94675146] ]\n",
    "B = [43262807, 68844111]"
   ]
  },
  {
   "cell_type": "code",
   "execution_count": 121,
   "metadata": {},
   "outputs": [
    {
     "name": "stdout",
     "output_type": "stream",
     "text": [
      "None None [1]\n",
      "in 4\n"
     ]
    },
    {
     "data": {
      "text/plain": [
       "[[1, 2], [3, 6], [8, 10]]"
      ]
     },
     "execution_count": 121,
     "metadata": {},
     "output_type": "execute_result"
    }
   ],
   "source": [
    "insert(A,B)"
   ]
  },
  {
   "cell_type": "code",
   "execution_count": null,
   "metadata": {},
   "outputs": [],
   "source": [
    "# (31935139, 38366404) (43262807, 76986474) (87248431, 94675146) "
   ]
  },
  {
   "cell_type": "code",
   "execution_count": null,
   "metadata": {},
   "outputs": [],
   "source": [
    "(6037774, 6198243)\n",
    "(6726550, 7004541)\n",
    "(8842554, 10866536) \n",
    "(11027721, 11341296)\n",
    "(11972532, 14746848)\n",
    "(16374805, 16706396) \n",
    "(17557262, 20518214) \n",
    "(22139780, 22379559) \n",
    "(27212352, 28404611) \n",
    "(28921768, 29621583) \n",
    "(29823256, 32060921)\n",
    "(33950165, 64859907)\n",
    "\n",
    "(65277782, 65296274) \n",
    "(67497842, 68386607) \n",
    "(70414085, 73339545) \n",
    "(73896106, 75605861)\n",
    "(79672668, 84539434) \n",
    "(84821550, 86558001)\n",
    "(91116470, 92198054) \n",
    "(96147808, 98979097) "
   ]
  }
 ],
 "metadata": {
  "kernelspec": {
   "display_name": "Python 2",
   "language": "python",
   "name": "python2"
  },
  "language_info": {
   "codemirror_mode": {
    "name": "ipython",
    "version": 2
   },
   "file_extension": ".py",
   "mimetype": "text/x-python",
   "name": "python",
   "nbconvert_exporter": "python",
   "pygments_lexer": "ipython2",
   "version": "2.7.14"
  }
 },
 "nbformat": 4,
 "nbformat_minor": 2
}
