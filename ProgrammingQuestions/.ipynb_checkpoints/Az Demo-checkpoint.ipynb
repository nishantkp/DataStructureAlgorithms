{
 "cells": [
  {
   "cell_type": "code",
   "execution_count": 1,
   "metadata": {},
   "outputs": [],
   "source": [
    "import functools\n",
    "def generalizedGCD(num, arr):\n",
    "    return functools.reduce(GCD, arr)\n",
    "\n",
    "def GCD(a, b):\n",
    "\n",
    "    if b == 0:\n",
    "        return a\n",
    "    else:\n",
    "        return GCD(b, a % b)"
   ]
  },
  {
   "cell_type": "code",
   "execution_count": 12,
   "metadata": {},
   "outputs": [],
   "source": [
    "def cellCompete(states, days):\n",
    "    # WRITE YOUR CODE HERE\n",
    "    \n",
    "    \n",
    "    for d in range(0, days):\n",
    "        new_states = []\n",
    "        for s in range(0, len(states)):\n",
    "            left, right = 0, 0\n",
    "            if s == 0:\n",
    "                right = states[1]\n",
    "            elif s == len(states)-1:\n",
    "                left = states[s-1]\n",
    "            else:\n",
    "                \n",
    "                left = states[s-1]\n",
    "                right = states[s+1]\n",
    "                \n",
    "            if left == right:\n",
    "                new_states.append(0)\n",
    "            else:\n",
    "                new_states.append(1)\n",
    "        \n",
    "        states = new_states\n",
    "    \n",
    "    return states"
   ]
  },
  {
   "cell_type": "code",
   "execution_count": 13,
   "metadata": {},
   "outputs": [
    {
     "name": "stdout",
     "output_type": "stream",
     "text": [
      "[0, 1, 0, 0, 1, 0, 1, 0]\n",
      "[0, 1, 0, 0, 1, 0, 1, 0]\n"
     ]
    },
    {
     "data": {
      "text/plain": [
       "True"
      ]
     },
     "execution_count": 13,
     "metadata": {},
     "output_type": "execute_result"
    }
   ],
   "source": [
    "cellCompete([1,0,0,0,0,1,0,0],1) == [0,1,0,0,1,0,1,0]"
   ]
  },
  {
   "cell_type": "code",
   "execution_count": 14,
   "metadata": {},
   "outputs": [
    {
     "name": "stdout",
     "output_type": "stream",
     "text": [
      "[1, 0, 1, 0, 1, 0, 0, 1]\n",
      "[0, 0, 0, 0, 0, 1, 1, 0]\n",
      "[0, 0, 0, 0, 0, 1, 1, 0]\n"
     ]
    },
    {
     "data": {
      "text/plain": [
       "True"
      ]
     },
     "execution_count": 14,
     "metadata": {},
     "output_type": "execute_result"
    }
   ],
   "source": [
    "cellCompete([1,1,1,0,1,1,1,1],2) == [0,0,0,0,0,1,1,0]"
   ]
  },
  {
   "cell_type": "code",
   "execution_count": null,
   "metadata": {},
   "outputs": [],
   "source": []
  }
 ],
 "metadata": {
  "kernelspec": {
   "display_name": "Python 2",
   "language": "python",
   "name": "python2"
  },
  "language_info": {
   "codemirror_mode": {
    "name": "ipython",
    "version": 2
   },
   "file_extension": ".py",
   "mimetype": "text/x-python",
   "name": "python",
   "nbconvert_exporter": "python",
   "pygments_lexer": "ipython2",
   "version": "2.7.14"
  }
 },
 "nbformat": 4,
 "nbformat_minor": 2
}
