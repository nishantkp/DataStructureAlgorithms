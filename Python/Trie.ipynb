{
 "cells": [
  {
   "cell_type": "code",
   "execution_count": 1,
   "metadata": {},
   "outputs": [],
   "source": [
    "class TrieNode():\n",
    "\n",
    "    def __init__(self, value = \"*\", is_last=False, prev = None, children = []):\n",
    "        self.value = value\n",
    "        self.is_last = is_last\n",
    "        self.prev = prev\n",
    "        self.children = children\n",
    "        self.counter = 0\n",
    "        \n",
    "    def __repr__(self):\n",
    "        return \"Value - {0} , is_last = {1}\".format(self.value, self.is_last)\n"
   ]
  },
  {
   "cell_type": "code",
   "execution_count": 2,
   "metadata": {},
   "outputs": [],
   "source": [
    "class Trie():\n",
    "    def __init__(self):\n",
    "        self.root = TrieNode()\n",
    "    \n",
    "    def add_nodes(self, words):\n",
    "        \n",
    "        for word in words:\n",
    "            print word\n",
    "            self.add_rest_nodes(word, self.root)\n",
    "    \n",
    "    def add_rest_nodes(self, word, prev):\n",
    "        \n",
    "        is_last = False\n",
    "        if len(word[1:]) == 0:\n",
    "            is_last = True\n",
    "        \n",
    "        ch = self.search_based_on_word(word[0], prev)\n",
    "        print ch ,\"-\",is_last  \n",
    "        if ch:\n",
    "            \n",
    "            if is_last:\n",
    "                # ch.is_last = True\n",
    "                return TrieNode(value=word[0], is_last = True, prev = prev)\n",
    "            \n",
    "            return self.add_rest_nodes(word[1:],ch)\n",
    "        \n",
    "        n = TrieNode(value=word[0], is_last = is_last, prev = prev)\n",
    "        prev.children.append(n)\n",
    "        \n",
    "        if not is_last:\n",
    "            return self.add_rest_nodes(word[1:],n)\n",
    "        \n",
    "        return\n",
    "    \n",
    "    def search_based_on_word(self,char,node):\n",
    "        \n",
    "        if len(node.children) == 0:\n",
    "            return None\n",
    "        \n",
    "        for child in node.children:\n",
    "            if child.value == char:\n",
    "                return child\n",
    "            \n",
    "        return None\n",
    "    \n",
    "    def draw_trie(self, node = None):\n",
    "        if not node:\n",
    "            node = self.root\n",
    "            \n",
    "        print node\n",
    "        \n",
    "        que = []+node.children\n",
    "        \n",
    "        while len(que) != 0:\n",
    "            elem = que[0]\n",
    "            que.remove(elem)\n",
    "            print elem, \"----\", len(elem.children)\n",
    "            que + elem.children\n",
    "            print len(que)"
   ]
  },
  {
   "cell_type": "code",
   "execution_count": 3,
   "metadata": {},
   "outputs": [
    {
     "name": "stdout",
     "output_type": "stream",
     "text": [
      "app\n",
      "None - False\n",
      "None - False\n",
      "Value - p , is_last = False - True\n"
     ]
    }
   ],
   "source": [
    "words = [\"app\" ]\n",
    "t1 = Trie()\n",
    "t1.add_nodes(words)"
   ]
  },
  {
   "cell_type": "code",
   "execution_count": 4,
   "metadata": {},
   "outputs": [
    {
     "name": "stdout",
     "output_type": "stream",
     "text": [
      "Value - * , is_last = False\n",
      "Value - a , is_last = False ---- 2\n",
      "1\n",
      "Value - p , is_last = False ---- 2\n",
      "0\n"
     ]
    }
   ],
   "source": [
    "t1.draw_trie()"
   ]
  },
  {
   "cell_type": "code",
   "execution_count": null,
   "metadata": {},
   "outputs": [],
   "source": []
  },
  {
   "cell_type": "code",
   "execution_count": null,
   "metadata": {},
   "outputs": [],
   "source": []
  }
 ],
 "metadata": {
  "kernelspec": {
   "display_name": "Python 2",
   "language": "python",
   "name": "python2"
  },
  "language_info": {
   "codemirror_mode": {
    "name": "ipython",
    "version": 2
   },
   "file_extension": ".py",
   "mimetype": "text/x-python",
   "name": "python",
   "nbconvert_exporter": "python",
   "pygments_lexer": "ipython2",
   "version": "2.7.14"
  }
 },
 "nbformat": 4,
 "nbformat_minor": 2
}
