{
 "cells": [
  {
   "cell_type": "markdown",
   "metadata": {},
   "source": [
    "## Q1"
   ]
  },
  {
   "cell_type": "code",
   "execution_count": 2,
   "metadata": {},
   "outputs": [
    {
     "data": {
      "text/plain": [
       "233168"
      ]
     },
     "execution_count": 2,
     "metadata": {},
     "output_type": "execute_result"
    }
   ],
   "source": [
    "lst_3_5 = [i for i in range(1,1000) if i%3 == 0 or i%5 == 0]\n",
    "\n",
    "import functools\n",
    "\n",
    "functools.reduce(lambda x,y: x+y, lst_3_5)"
   ]
  },
  {
   "cell_type": "markdown",
   "metadata": {},
   "source": [
    "## Q2"
   ]
  },
  {
   "cell_type": "code",
   "execution_count": 10,
   "metadata": {},
   "outputs": [
    {
     "data": {
      "text/plain": [
       "4613732"
      ]
     },
     "execution_count": 10,
     "metadata": {},
     "output_type": "execute_result"
    }
   ],
   "source": [
    "def fib():\n",
    "    op_arr = [1,2]\n",
    "    last_0 = 1\n",
    "    last_1 = 2\n",
    "    \n",
    "    while last_0 < 4000000:\n",
    "        n = last_0 + last_1\n",
    "        op_arr.append(n)\n",
    "        last_0,last_1 = last_1,n\n",
    "        \n",
    "    \n",
    "    return op_arr\n",
    "\n",
    "op_arr = fib()\n",
    "import functools\n",
    "result = filter(lambda x: x % 2 == 0, op_arr)\n",
    "functools.reduce(lambda x,y: x+y, result)\n",
    "        "
   ]
  },
  {
   "cell_type": "markdown",
   "metadata": {},
   "source": [
    "## Q3"
   ]
  },
  {
   "cell_type": "code",
   "execution_count": 15,
   "metadata": {},
   "outputs": [
    {
     "data": {
      "text/plain": [
       "[71, 839, 1471, 6857]"
      ]
     },
     "execution_count": 15,
     "metadata": {},
     "output_type": "execute_result"
    }
   ],
   "source": [
    "import math\n",
    "\n",
    "def get_primes(n):\n",
    "    op_arr = []\n",
    "    if n % 2 == 0:\n",
    "        op_arr.append(2)\n",
    "    \n",
    "    for i in range(3, int(math.sqrt(n))+1, 2):\n",
    "        while n%i == 0:\n",
    "            op_arr.append(i)\n",
    "            n = n / i\n",
    "    \n",
    "    return op_arr\n",
    "\n",
    "get_primes(600851475143)"
   ]
  },
  {
   "cell_type": "markdown",
   "metadata": {},
   "source": [
    "## Q4"
   ]
  },
  {
   "cell_type": "code",
   "execution_count": 20,
   "metadata": {},
   "outputs": [
    {
     "name": "stdout",
     "output_type": "stream",
     "text": [
      "906609\n"
     ]
    }
   ],
   "source": [
    "def is_palindrom(n):\n",
    "    return str(n) == str(n)[::-1]\n",
    "\n",
    "largest = 0\n",
    "\n",
    "for i in range(100,999):\n",
    "    for j in range(100,999):\n",
    "        n = i * j\n",
    "        if n > largest and is_palindrom(n):\n",
    "            largest = n\n",
    "\n",
    "print largest"
   ]
  },
  {
   "cell_type": "markdown",
   "metadata": {},
   "source": [
    "## Q5"
   ]
  },
  {
   "cell_type": "code",
   "execution_count": 1,
   "metadata": {},
   "outputs": [
    {
     "name": "stdout",
     "output_type": "stream",
     "text": [
      "[10, 11, 13, 14, 15, 16, 17, 18, 19]\n"
     ]
    },
    {
     "data": {
      "text/plain": [
       "27935107200L"
      ]
     },
     "execution_count": 1,
     "metadata": {},
     "output_type": "execute_result"
    }
   ],
   "source": [
    "import functools\n",
    "\n",
    "def find_min_num(n):\n",
    "    \n",
    "    nums = [1]\n",
    "\n",
    "    for i in range(2,n):\n",
    "     \n",
    "        \n",
    "        if i not in nums:   \n",
    "            for j in nums:\n",
    "                if i % j == 0:\n",
    "                    nums.remove(j) \n",
    "                else:\n",
    "                    for k in nums:\n",
    "                        if j*k % i == 0:\n",
    "                            nums.remove(j)\n",
    "            nums.append(i)\n",
    "    \n",
    "#     result = []\n",
    "#     for k in nums:\n",
    "#         primes = get_prime_factors(k)\n",
    "#         print k, primes\n",
    "#         if len(primes) > 0:\n",
    "#             for p in primes:\n",
    "#                 if p not in result:\n",
    "#                     result.append(p)\n",
    "#         else:\n",
    "#             result.append(k)\n",
    "\n",
    "    print nums\n",
    "    \n",
    "    return functools.reduce(lambda x,y : x*y, nums)\n",
    "\n",
    "find_min_num(20)"
   ]
  },
  {
   "cell_type": "code",
   "execution_count": 16,
   "metadata": {},
   "outputs": [
    {
     "data": {
      "text/plain": [
       "6"
      ]
     },
     "execution_count": 16,
     "metadata": {},
     "output_type": "execute_result"
    }
   ],
   "source": [
    "15120/2520"
   ]
  },
  {
   "cell_type": "code",
   "execution_count": 54,
   "metadata": {},
   "outputs": [],
   "source": [
    "def get_prime_factors(num):\n",
    "    \n",
    "    facts = []\n",
    "    if num % 2 == 0:\n",
    "        facts.append(2)\n",
    "        \n",
    "    for n in range(3, int(num/2)+1, 2):\n",
    "  \n",
    "        if num % n == 0:\n",
    "            facts.append(n)\n",
    "            num = num/n\n",
    "    \n",
    "    return facts"
   ]
  },
  {
   "cell_type": "code",
   "execution_count": 55,
   "metadata": {},
   "outputs": [
    {
     "data": {
      "text/plain": [
       "[]"
      ]
     },
     "execution_count": 55,
     "metadata": {},
     "output_type": "execute_result"
    }
   ],
   "source": [
    "get_prime_factors(17)"
   ]
  },
  {
   "cell_type": "code",
   "execution_count": 88,
   "metadata": {},
   "outputs": [
    {
     "name": "stdout",
     "output_type": "stream",
     "text": [
      "1 [2, 3, 4, 5, 6, 7, 8, 9]\n",
      "3 [2, 4, 5, 6, 7, 8, 9]\n",
      "5 [2, 4, 6, 7, 8, 9]\n",
      "7 [2, 4, 6, 8, 9]\n",
      "9 [2, 4, 6, 8]\n",
      "[2, 4, 6, 8]\n"
     ]
    }
   ],
   "source": [
    "param = 10\n",
    "nums = range(1,param)\n",
    "prod = functools.reduce(lambda x,y : x*y, nums)\n",
    "\n",
    "for n in nums:\n",
    "    \n",
    "    #print n, nums\n",
    "    \n",
    "    p1 = prod / n\n",
    "    \n",
    "    can_remove = 1\n",
    "    \n",
    "    for j in nums:\n",
    "        if j != n and p1 % j == 0:\n",
    "            can_remove += 1\n",
    "                \n",
    "    # print len(nums) , can_remove, nums, n\n",
    "    \n",
    "    if can_remove == len(nums):\n",
    "        \n",
    "        nums.remove(n)\n",
    "        print n, nums\n",
    "\n",
    "print nums\n"
   ]
  },
  {
   "cell_type": "code",
   "execution_count": 60,
   "metadata": {},
   "outputs": [
    {
     "data": {
      "text/plain": [
       "121645100408832000L"
      ]
     },
     "execution_count": 60,
     "metadata": {},
     "output_type": "execute_result"
    }
   ],
   "source": [
    "prod"
   ]
  },
  {
   "cell_type": "markdown",
   "metadata": {},
   "source": [
    "## Q6"
   ]
  },
  {
   "cell_type": "code",
   "execution_count": 13,
   "metadata": {},
   "outputs": [
    {
     "data": {
      "text/plain": [
       "25164150"
      ]
     },
     "execution_count": 13,
     "metadata": {},
     "output_type": "execute_result"
    }
   ],
   "source": [
    "import functools\n",
    "\n",
    "def sum_natural_numbers_sq(n):\n",
    "    return ( n * (n+1) / 2 ) ** 2\n",
    "\n",
    "def sum_natural_squares(n):\n",
    "    arr = range(1,n+1)\n",
    "    arr2 = map(lambda x:x**2,arr)\n",
    "    return functools.reduce(lambda x,y: x+y, arr2)\n",
    "    # (n * (n + 1) * (2 * n + 1)) / 6\n",
    "\n",
    "sum_n = sum_natural_numbers_sq(100)\n",
    "sum_sq_n = sum_natural_squares(100)\n",
    "\n",
    "sum_n - sum_sq_n"
   ]
  },
  {
   "cell_type": "markdown",
   "metadata": {},
   "source": [
    "## Q7"
   ]
  },
  {
   "cell_type": "code",
   "execution_count": 24,
   "metadata": {},
   "outputs": [
    {
     "data": {
      "text/plain": [
       "104743"
      ]
     },
     "execution_count": 24,
     "metadata": {},
     "output_type": "execute_result"
    }
   ],
   "source": [
    "def get_primeth_number(n):\n",
    "    prime = 1\n",
    "    i = 0\n",
    "    ctr = 1\n",
    "    while i < n:\n",
    "        if is_prime(ctr):\n",
    "            prime = ctr\n",
    "            # print i, prime\n",
    "            i += 1\n",
    "        ctr += 1\n",
    "    \n",
    "    return prime\n",
    "\n",
    "def is_prime(n):\n",
    "    if n <= 1:\n",
    "        return False\n",
    "    elif n <= 3:\n",
    "        return True\n",
    "    elif (n % 2 == 0) or (n % 3 == 0):\n",
    "        return False\n",
    "    i = 5\n",
    "    while (i*i <= n):\n",
    "        if (n % i == 0) or (n % (i + 2) == 0):\n",
    "            return False\n",
    "        i = i + 6\n",
    "    \n",
    "    return True\n",
    "\n",
    "get_primeth_number(10001)"
   ]
  },
  {
   "cell_type": "markdown",
   "metadata": {},
   "source": [
    "## Q8"
   ]
  },
  {
   "cell_type": "code",
   "execution_count": 40,
   "metadata": {},
   "outputs": [
    {
     "name": "stdout",
     "output_type": "stream",
     "text": [
      "7316717653133062491922511967442657474235534919493496983520312774506326239578318016984801869478851843858615607891129494954595017379583319528532088055111254069874715852386305071569329096329522744304355766896648950445244523161731856403098711121722383113622298934233803081353362766142828064444866452387493035890729629049156044077239071381051585930796086670172427121883998797908792274921901699720888093776657273330010533678812202354218097512545405947522435258490771167055601360483958644670632441572215539753697817977846174064955149290862569321978468622482839722413756570560574902614079729686524145351004748216637048440319989000889524345065854122758866688116427171479924442928230863465674813919123162824586178664583591245665294765456828489128831426076900422421902267105562632111110937054421750694165896040807198403850962455444362981230987879927244284909188845801561660979191338754992005240636899125607176060588611646710940507754100225698315520005593572972571636269561882670428252483600823257530420752963450\n"
     ]
    },
    {
     "data": {
      "text/plain": [
       "23514624000L"
      ]
     },
     "execution_count": 40,
     "metadata": {},
     "output_type": "execute_result"
    }
   ],
   "source": [
    "HUGE_NUM = \"7316717653133062491922511967442657474235534919493496983520312774506326239578318016984801869478851843858615607891129494954595017379583319528532088055111254069874715852386305071569329096329522744304355766896648950445244523161731856403098711121722383113622298934233803081353362766142828064444866452387493035890729629049156044077239071381051585930796086670172427121883998797908792274921901699720888093776657273330010533678812202354218097512545405947522435258490771167055601360483958644670632441572215539753697817977846174064955149290862569321978468622482839722413756570560574902614079729686524145351004748216637048440319989000889524345065854122758866688116427171479924442928230863465674813919123162824586178664583591245665294765456828489128831426076900422421902267105562632111110937054421750694165896040807198403850962455444362981230987879927244284909188845801561660979191338754992005240636899125607176060588611646710940507754100225698315520005593572972571636269561882670428252483600823257530420752963450\"\n",
    "\n",
    "\n",
    "def largest_prod(num):\n",
    "    print num\n",
    "    i = 0\n",
    "    prod = 0\n",
    "    final_len = len(num) - 13\n",
    "    \n",
    "    while i < final_len: \n",
    "        sub_str = num[i:i+13]\n",
    "        p = functools.reduce(lambda x,y : int(x)*int(y), sub_str)\n",
    "        if p > prod:\n",
    "            prod = p\n",
    "        i += 1\n",
    "    return prod\n",
    "    \n",
    "largest_prod(HUGE_NUM)"
   ]
  },
  {
   "cell_type": "code",
   "execution_count": null,
   "metadata": {},
   "outputs": [],
   "source": []
  }
 ],
 "metadata": {
  "kernelspec": {
   "display_name": "Python 2",
   "language": "python",
   "name": "python2"
  },
  "language_info": {
   "codemirror_mode": {
    "name": "ipython",
    "version": 2
   },
   "file_extension": ".py",
   "mimetype": "text/x-python",
   "name": "python",
   "nbconvert_exporter": "python",
   "pygments_lexer": "ipython2",
   "version": "2.7.14"
  }
 },
 "nbformat": 4,
 "nbformat_minor": 2
}
