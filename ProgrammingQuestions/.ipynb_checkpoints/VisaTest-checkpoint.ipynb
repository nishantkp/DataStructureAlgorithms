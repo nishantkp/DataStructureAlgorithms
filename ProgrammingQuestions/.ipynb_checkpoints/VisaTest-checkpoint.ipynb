{
 "cells": [
  {
   "cell_type": "code",
   "execution_count": 7,
   "metadata": {},
   "outputs": [],
   "source": [
    "def findMedianSortedArrays(A, B):\n",
    "        i , j = 0,0\n",
    "        new_arr = []\n",
    "        l = len(A+B)\n",
    "        print A, B\n",
    "        while len(new_arr) < l:\n",
    "            if i == len(A):\n",
    "                new_arr += B[j:]\n",
    "                break\n",
    "            if j == len(B):\n",
    "                new_arr += A[i:]\n",
    "                break\n",
    "            \n",
    "            if A[i] <= B[j]:\n",
    "                new_arr.append(A[i])\n",
    "                i += 1\n",
    "            elif A[i] > B[j]:\n",
    "                new_arr.append(B[j])\n",
    "                j += 1\n",
    "                \n",
    "        \n",
    "        print new_arr, l/2\n",
    "        \n",
    "        if l%2 == 0:\n",
    "            return float( new_arr[l/2] + new_arr[(l/2)-1] ) / 2\n",
    "        elif l == 1:\n",
    "            return new_arr[0]\n",
    "        else:\n",
    "            return new_arr[l/2]"
   ]
  },
  {
   "cell_type": "code",
   "execution_count": 8,
   "metadata": {},
   "outputs": [
    {
     "name": "stdout",
     "output_type": "stream",
     "text": [
      "[-37, -29, 10, 46] [-9, 18, 19]\n",
      "[-37, -29, -9, 10, 18, 19, 46] 3\n"
     ]
    },
    {
     "data": {
      "text/plain": [
       "10"
      ]
     },
     "execution_count": 8,
     "metadata": {},
     "output_type": "execute_result"
    }
   ],
   "source": [
    "A = [-37,-29,10,46]\n",
    "B = [-9,18,19]\n",
    "findMedianSortedArrays(A,B)"
   ]
  },
  {
   "cell_type": "code",
   "execution_count": 9,
   "metadata": {},
   "outputs": [
    {
     "name": "stdout",
     "output_type": "stream",
     "text": [
      "[] [0, 23]\n",
      "[0, 23] 1\n"
     ]
    },
    {
     "data": {
      "text/plain": [
       "11.5"
      ]
     },
     "execution_count": 9,
     "metadata": {},
     "output_type": "execute_result"
    }
   ],
   "source": [
    "A = []\n",
    "B = [0,23]\n",
    "findMedianSortedArrays(A,B)"
   ]
  },
  {
   "cell_type": "code",
   "execution_count": 10,
   "metadata": {},
   "outputs": [
    {
     "name": "stdout",
     "output_type": "stream",
     "text": [
      "[6, 7, 9] [-1, 5, 10]\n",
      "[-1, 5, 6, 7, 9, 10] 3\n"
     ]
    },
    {
     "data": {
      "text/plain": [
       "6.5"
      ]
     },
     "execution_count": 10,
     "metadata": {},
     "output_type": "execute_result"
    }
   ],
   "source": [
    "A = [6,7,9]\n",
    "B = [-1,5,10]\n",
    "findMedianSortedArrays(A,B)"
   ]
  },
  {
   "cell_type": "code",
   "execution_count": null,
   "metadata": {},
   "outputs": [],
   "source": [
    "def maxStreak(m, data):\n",
    "    # Write your code here\n",
    "    if m <= 0:\n",
    "        return 0\n",
    "    if len(data) == 0:\n",
    "        return 0\n",
    "    \n",
    "    present_str = \"Y\"*m\n",
    "    consec_days = 0\n",
    "    current_ct = 0\n",
    "    \n",
    "    for i in range(len(data)):\n",
    "        if data[i] == present_str:\n",
    "            current_ct += 1\n",
    "        else:\n",
    "            if current_ct >= consec_days:\n",
    "                consec_days = current_ct\n",
    "            \n",
    "            current_ct = 0\n",
    "    \n",
    "    return consec_days"
   ]
  },
  {
   "cell_type": "code",
   "execution_count": null,
   "metadata": {},
   "outputs": [],
   "source": [
    "def flowerBouquets(p, q, s):\n",
    "    # Write your code here\n",
    "    if len(s) <= 1:\n",
    "        return 0\n",
    "    \n",
    "    if len(s) == 2:\n",
    "        if s[0] != s[1]:\n",
    "            return q\n",
    "        return 0\n",
    "    p = int(p)\n",
    "    q = int(q)\n",
    "   \n",
    "    final_set = {\n",
    "        \"type1\" : [],\n",
    "        \"type2\" : []\n",
    "    }\n",
    "    \n",
    "    type1 = []\n",
    "    type2 = []\n",
    "    \n",
    "    seen1 = []\n",
    "    \n",
    "    for i in range(len(s)):\n",
    "        \n",
    "        if i not in seen1:  \n",
    "            if s[i] == \"0\": \n",
    "                if s[i+2]:\n",
    "                    if s[i+1] == \"0\" and s[i+2] ==\"0\":\n",
    "                        \n",
    "                        seen1.append(i)\n",
    "                        seen1.append(i+1)\n",
    "                        seen1.append(i+2)\n",
    "                        type1.append([i,i+1,i+2])\n",
    "                        \n",
    "    seen2 = []\n",
    "    for i in range(len(s)):\n",
    "        if i not in seen2:\n",
    "            if s[i] == \"1\":\n",
    "                if s[i-1] and s[i-1] == \"0\":\n",
    "                    seen2.append(i-1)\n",
    "                    seen2.append(i)\n",
    "                    type2.append([i-1,i])\n",
    "                    \n",
    "                elif s[i+1] and s[i+1] == \"0\":\n",
    "                    seen2.append(i)\n",
    "                    seen2.append(i+1)\n",
    "                    type2.append([i,i+1])\n",
    "    \n",
    "    \n",
    "    for t2 in range(len(type2)):\n",
    "        \n",
    "        if t2+1 < len(type2):\n",
    "            if type2[t2][1] == type2[t2+1][0]:\n",
    "                if type2[t2][0] in seen1:\n",
    "\n",
    "                    if p < q:\n",
    "                        final_set[\"type2\"].append(type2[t2])\n",
    "                        print p,q\n",
    "                        for x in range(len(type1)):\n",
    "                            print x\n",
    "                            if type2[t2][0] in type1[x]:\n",
    "                                print type1[x]\n",
    "                                type1[x] = None\n",
    "                    else:\n",
    "                        print p,q, p<q\n",
    "                        for x in range(len(type1)):\n",
    "                            if type2[t2][0] in type1[x]:\n",
    "                                final_set[\"type1\"].append(type1[x])\n",
    "\n",
    "                        type2[t2] = None         \n",
    "\n",
    "\n",
    "            elif type2[t2+1][1] in seen1:\n",
    "                pass\n",
    "        \n",
    "        else:\n",
    "            if type2[t2][0] in seen1:\n",
    "                if p < q:\n",
    "                    final_set[\"type2\"].append(type2[t2])\n",
    "                    \n",
    "                    for x in range(len(type1)):\n",
    "                        \n",
    "                        if type2[t2][0] in type1[x]:\n",
    "                            print type1[x]\n",
    "                            type1[x] = None\n",
    "                else:\n",
    "                    for x in range(len(type1)):\n",
    "                        if type2[t2][0] in type1[x]:\n",
    "                            final_set[\"type1\"].append(type1[x])\n",
    "\n",
    "                    type2[t2] = None   \n",
    "    \n",
    "    for t1 in type1:\n",
    "        if t1 not in final_set[\"type1\"]:\n",
    "            final_set[\"type1\"].append(t1)\n",
    "    \n",
    "    for t2 in type2:\n",
    "        if t2 not in final_set[\"type2\"]:\n",
    "            final_set[\"type2\"].append(t2)\n",
    "            \n",
    "    \n",
    "    try:\n",
    "        final_set[\"type1\"].remove(None)\n",
    "    except:\n",
    "        pass\n",
    "    try:\n",
    "        final_set[\"type2\"].remove(None)\n",
    "    except:\n",
    "        pass\n",
    "    \n",
    "    profit = len(final_set[\"type1\"])*p + len(final_set[\"type2\"])*q\n",
    "    \n",
    "    return profit\n"
   ]
  }
 ],
 "metadata": {
  "kernelspec": {
   "display_name": "Python 2",
   "language": "python",
   "name": "python2"
  },
  "language_info": {
   "codemirror_mode": {
    "name": "ipython",
    "version": 2
   },
   "file_extension": ".py",
   "mimetype": "text/x-python",
   "name": "python",
   "nbconvert_exporter": "python",
   "pygments_lexer": "ipython2",
   "version": "2.7.14"
  }
 },
 "nbformat": 4,
 "nbformat_minor": 2
}
