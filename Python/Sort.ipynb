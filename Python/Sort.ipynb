{
 "cells": [
  {
   "cell_type": "markdown",
   "metadata": {},
   "source": [
    "## Mergesort"
   ]
  },
  {
   "cell_type": "code",
   "execution_count": 6,
   "metadata": {},
   "outputs": [],
   "source": [
    "def merge_sort(arr):\n",
    "    \n",
    "    if len(arr) > 1:\n",
    "        mid = len(arr) // 2      \n",
    "        left = merge_sort(arr[:mid])\n",
    "        right = merge_sort(arr[mid:])\n",
    "        \n",
    "        return merge(left, right)\n",
    "    else:\n",
    "        return arr"
   ]
  },
  {
   "cell_type": "code",
   "execution_count": 7,
   "metadata": {},
   "outputs": [],
   "source": [
    "def merge(left, right):\n",
    "    i,j=0,0\n",
    "    result = []\n",
    "    \n",
    "    while i < len(left) and j < len(right):\n",
    "        if left[i] <= right[j]:\n",
    "            result.append(left[i])\n",
    "            i += 1\n",
    "        else:\n",
    "            result.append(right[j])\n",
    "            j += 1\n",
    "            \n",
    "    result += left[i:]\n",
    "    result += right[j:]\n",
    "    \n",
    "    \n",
    "    return result"
   ]
  },
  {
   "cell_type": "code",
   "execution_count": 7,
   "metadata": {},
   "outputs": [],
   "source": [
    "a = [5,3,4,2,1]"
   ]
  },
  {
   "cell_type": "code",
   "execution_count": 9,
   "metadata": {},
   "outputs": [
    {
     "data": {
      "text/plain": [
       "[1, 2, 3, 4, 5]"
      ]
     },
     "execution_count": 9,
     "metadata": {},
     "output_type": "execute_result"
    }
   ],
   "source": [
    "merge_sort(a)"
   ]
  },
  {
   "cell_type": "markdown",
   "metadata": {},
   "source": [
    "## Quicksort"
   ]
  },
  {
   "cell_type": "code",
   "execution_count": 10,
   "metadata": {},
   "outputs": [],
   "source": [
    "def quick_sort(arr):\n",
    "    pass"
   ]
  },
  {
   "cell_type": "markdown",
   "metadata": {},
   "source": [
    "## Selection Sort"
   ]
  },
  {
   "cell_type": "code",
   "execution_count": 55,
   "metadata": {},
   "outputs": [],
   "source": [
    "def selection_sort(arr):\n",
    "    print arr\n",
    "    \n",
    "    min_idx = 0\n",
    "    new_min_idx = 0\n",
    "    \n",
    "    n = 0\n",
    "    \n",
    "    while n < len(arr): \n",
    "        n = n+1\n",
    "                \n",
    "        for elem in arr[min_idx:]:\n",
    "            \n",
    "            if elem < arr[new_min_idx]:\n",
    "                new_min_idx = arr.index(elem)\n",
    "            \n",
    "                \n",
    "        if new_min_idx != min_idx:       \n",
    "            temp = arr[min_idx]\n",
    "            arr[min_idx] = arr[new_min_idx]\n",
    "            arr[new_min_idx] = temp\n",
    "            min_idx += 1\n",
    "            new_min_idx = min_idx\n",
    "        else:\n",
    "            min_idx += 1\n",
    "            new_min_idx += 1\n",
    "         \n",
    "        print arr\n",
    "                \n",
    "    print \"reverse - \", arr, n\n",
    "    return arr\n",
    "    "
   ]
  },
  {
   "cell_type": "code",
   "execution_count": 56,
   "metadata": {},
   "outputs": [
    {
     "name": "stdout",
     "output_type": "stream",
     "text": [
      "[5, 1, 0, 6, 8, 3]\n",
      "[0, 1, 5, 6, 8, 3]\n",
      "[0, 1, 5, 6, 8, 3]\n",
      "[0, 1, 3, 6, 8, 5]\n",
      "[0, 1, 3, 5, 8, 6]\n",
      "[0, 1, 3, 5, 6, 8]\n",
      "[0, 1, 3, 5, 6, 8]\n",
      "reverse -  [0, 1, 3, 5, 6, 8] 6\n",
      "[5, 4, 3, 2, 1]\n",
      "[1, 4, 3, 2, 5]\n",
      "[1, 2, 3, 4, 5]\n",
      "[1, 2, 3, 4, 5]\n",
      "[1, 2, 3, 4, 5]\n",
      "[1, 2, 3, 4, 5]\n",
      "reverse -  [1, 2, 3, 4, 5] 5\n",
      "[0, 1, 5, 2, 3, 4]\n",
      "[0, 1, 5, 2, 3, 4]\n",
      "[0, 1, 5, 2, 3, 4]\n",
      "[0, 1, 2, 5, 3, 4]\n",
      "[0, 1, 2, 3, 5, 4]\n",
      "[0, 1, 2, 3, 4, 5]\n",
      "[0, 1, 2, 3, 4, 5]\n",
      "reverse -  [0, 1, 2, 3, 4, 5] 6\n",
      "[5, 0, 1, 2, 4, 3]\n",
      "[0, 5, 1, 2, 4, 3]\n",
      "[0, 1, 5, 2, 4, 3]\n",
      "[0, 1, 2, 5, 4, 3]\n",
      "[0, 1, 2, 3, 4, 5]\n",
      "[0, 1, 2, 3, 4, 5]\n",
      "[0, 1, 2, 3, 4, 5]\n",
      "reverse -  [0, 1, 2, 3, 4, 5] 6\n"
     ]
    },
    {
     "data": {
      "text/plain": [
       "[0, 1, 2, 3, 4, 5]"
      ]
     },
     "execution_count": 56,
     "metadata": {},
     "output_type": "execute_result"
    }
   ],
   "source": [
    "a = [5,1,0,6,8,3]\n",
    "selection_sort(a)\n",
    "\n",
    "a = [5,4,3,2,1]\n",
    "selection_sort(a)\n",
    "\n",
    "a = [0,1,5,2,3,4]\n",
    "selection_sort(a)\n",
    "\n",
    "a = [5,0,1,2,4,3]\n",
    "selection_sort(a)"
   ]
  },
  {
   "cell_type": "code",
   "execution_count": null,
   "metadata": {},
   "outputs": [],
   "source": []
  },
  {
   "cell_type": "code",
   "execution_count": null,
   "metadata": {},
   "outputs": [],
   "source": []
  }
 ],
 "metadata": {
  "kernelspec": {
   "display_name": "Python 2",
   "language": "python",
   "name": "python2"
  },
  "language_info": {
   "codemirror_mode": {
    "name": "ipython",
    "version": 2
   },
   "file_extension": ".py",
   "mimetype": "text/x-python",
   "name": "python",
   "nbconvert_exporter": "python",
   "pygments_lexer": "ipython2",
   "version": "2.7.14"
  }
 },
 "nbformat": 4,
 "nbformat_minor": 2
}
